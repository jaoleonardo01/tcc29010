{
 "cells": [
  {
   "cell_type": "code",
   "execution_count": 7,
   "id": "cdd8f6be",
   "metadata": {},
   "outputs": [
    {
     "name": "stderr",
     "output_type": "stream",
     "text": [
      "Special tokens have been added in the vocabulary, make sure the associated word embeddings are fine-tuned or trained.\n",
      "The attention mask and the pad token id were not set. As a consequence, you may observe unexpected behavior. Please pass your input's `attention_mask` to obtain reliable results.\n",
      "Setting `pad_token_id` to `eos_token_id`:50256 for open-end generation.\n"
     ]
    },
    {
     "name": "stdout",
     "output_type": "stream",
     "text": [
      " Review: aplicativo difícil de entender, vive travando\n",
      "Sentiment: negative\n",
      "None\n"
     ]
    }
   ],
   "source": [
    "from transformers import GPT2LMHeadModel, GPT2Tokenizer\n",
    "\n",
    "model_name = \"/home/joao/Dropbox/Aula/TCC2/modelo/gpt2\"\n",
    "#model_name = \"/home/joao/.local/lib/python3.9/site-packages/transformers/models/gpt2\"\n",
    "\n",
    "tokenizer = GPT2Tokenizer.from_pretrained(\"gpt2\", bos_token='<|startoftext|>',\n",
    "                                              eos_token='<|endoftext|>', pad_token='<|pad|>')\n",
    "model = GPT2LMHeadModel.from_pretrained(model_name)\n",
    "\n",
    "\n",
    "input_text = \"aplicativo difícil de entender, vive travando\"\n",
    "\n",
    "# predict sentiment on test data\n",
    "prompt = f'<|startoftext|>Review: {input_text}\\nSentiment:'\n",
    "#generated = tokenizer(f\"<|startoftext|> {prompt}\", return_tensors=\"pt\").input_ids\n",
    "generated = tokenizer(f\"<|startoftext|> {prompt}\", return_tensors=\"pt\").input_ids\n",
    "sample_outputs = model.generate(generated, do_sample=False, top_k=50, max_length=512, top_p=0.90, \n",
    "                                temperature=0, num_return_sequences=0)\n",
    "pred_text = tokenizer.decode(sample_outputs[0], skip_special_tokens=True)\n",
    "print(pred_text)\n",
    "# extract the predicted sentiment\n",
    "try:\n",
    "  pred_sentiment = re.findall(\"\\nSentiment: (.*)\", pred_text)[-1]\n",
    "except:\n",
    "  pred_sentiment = \"None\"\n",
    "\n",
    "print(pred_sentiment)"
   ]
  },
  {
   "cell_type": "code",
   "execution_count": null,
   "id": "e5e61008",
   "metadata": {},
   "outputs": [],
   "source": []
  },
  {
   "cell_type": "code",
   "execution_count": null,
   "id": "1ecdfd7b",
   "metadata": {},
   "outputs": [],
   "source": []
  },
  {
   "cell_type": "code",
   "execution_count": null,
   "id": "c0556aa2",
   "metadata": {},
   "outputs": [],
   "source": []
  }
 ],
 "metadata": {
  "kernelspec": {
   "display_name": "Python 3 (ipykernel)",
   "language": "python",
   "name": "python3"
  },
  "language_info": {
   "codemirror_mode": {
    "name": "ipython",
    "version": 3
   },
   "file_extension": ".py",
   "mimetype": "text/x-python",
   "name": "python",
   "nbconvert_exporter": "python",
   "pygments_lexer": "ipython3",
   "version": "3.9.2"
  }
 },
 "nbformat": 4,
 "nbformat_minor": 5
}
